{
 "cells": [
  {
   "cell_type": "code",
   "execution_count": 1,
   "metadata": {},
   "outputs": [
    {
     "name": "stdout",
     "output_type": "stream",
     "text": [
      "Model: \"functional_1\"\n",
      "_________________________________________________________________\n",
      "Layer (type)                 Output Shape              Param #   \n",
      "=================================================================\n",
      "input_1 (InputLayer)         [(None, 2)]               0         \n",
      "_________________________________________________________________\n",
      "dense (Dense)                (None, 30)                90        \n",
      "_________________________________________________________________\n",
      "dense_1 (Dense)              (None, 30)                930       \n",
      "_________________________________________________________________\n",
      "dense_2 (Dense)              (None, 1)                 31        \n",
      "=================================================================\n",
      "Total params: 1,051\n",
      "Trainable params: 1,051\n",
      "Non-trainable params: 0\n",
      "_________________________________________________________________\n"
     ]
    }
   ],
   "source": [
    "from tensorflow.python import keras\n",
    "from tensorflow.keras.optimizers import Adam\n",
    "import tensorflow as tf\n",
    "import os\n",
    "import scipy.io\n",
    "import numpy as np \n",
    "import matplotlib.pyplot as plt\n",
    "\n",
    "\n",
    "os.environ['KMP_DUPLICATE_LIB_OK']='True'\n",
    "datax = scipy.io.loadmat(\"xtrain_hati20.mat\")\n",
    "z_true = scipy.io.loadmat(\"trj_hati.mat\")\n",
    "trj_data = z_true[\"xxhati\"]\n",
    "spike_data = datax[\"yy\"]\n",
    "obs_shape = 2\n",
    "\n",
    "lr = 0.005  \n",
    "\n",
    "c = input_ = keras.layers.Input(shape=obs_shape)\n",
    "c = keras.layers.Dense(30, activation=\"relu\")(c)\n",
    "c = keras.layers.Dense(30, activation=\"relu\")(c)\n",
    "critic_layer = keras.layers.Dense(1, activation=\"linear\")(c)\n",
    "\n",
    "model = keras.Model(input_, critic_layer)\n",
    "model.compile(optimizer=Adam(lr=lr))\n",
    "model.summary()\n",
    "loss_his = []\n",
    "def train(model, experiences, episode):\n",
    "\n",
    "    gamma = 0.9 \n",
    "\n",
    "    if experiences[-1][\"done\"]:\n",
    "        G = 0\n",
    "    else:\n",
    "        n_state = np.atleast_2d(experiences[-1][\"n_state\"])\n",
    "        n_v = model(n_state)\n",
    "        G = n_v[0][0].numpy()\n",
    "\n",
    "    discounted_rewards = []\n",
    "    for exp in reversed(experiences):\n",
    "        if exp[\"done\"]:\n",
    "            G = 0\n",
    "        G = exp[\"reward\"] + gamma * G\n",
    "        discounted_rewards.append(G)\n",
    "    discounted_rewards.reverse()\n",
    "\n",
    "    discounted_rewards = np.asarray(discounted_rewards).reshape((-1, 1))\n",
    "\n",
    "    discounted_rewards -= np.mean(discounted_rewards)  \n",
    "\n",
    "    state_batch = np.asarray([e[\"state\"] for e in experiences])\n",
    "    #print(experiences)\n",
    "    with tf.GradientTape() as tape:\n",
    "        v = model(state_batch, training=True)\n",
    "        #print(\"V\",v)\n",
    "        #print(\"r\",discounted_rewards)\n",
    "        #print(\"v-r\",(discounted_rewards - v) ** 2)\n",
    "        loss = tf.reduce_mean((discounted_rewards - v) ** 2, axis=1, keepdims=True)\n",
    "        #print(\"l\",loss[:6])\n",
    "        loss = tf.reduce_mean(loss)\n",
    "    loss_his.append(loss)\n",
    "        #print(\"loss\",loss)\n",
    "    #if episode % 50 == 0:\n",
    "        #print(\"loss\",loss)\n",
    "    gradients = tape.gradient(loss, model.trainable_variables)\n",
    "    model.optimizer.apply_gradients(zip(gradients, model.trainable_variables))"
   ]
  },
  {
   "cell_type": "code",
   "execution_count": 2,
   "metadata": {},
   "outputs": [
    {
     "name": "stdout",
     "output_type": "stream",
     "text": [
      "E 0\n",
      "E 100\n",
      "E 200\n",
      "E 300\n",
      "E 400\n",
      "E 500\n",
      "E 600\n",
      "E 700\n",
      "E 800\n",
      "E 900\n",
      "E 1000\n",
      "E 1100\n",
      "E 1200\n",
      "E 1300\n",
      "E 1400\n"
     ]
    }
   ],
   "source": [
    "batch_size = 32\n",
    "num_inputs = 2 \n",
    "experiences = []\n",
    "state = np.zeros(num_inputs)\n",
    "n_state = np.zeros(num_inputs)\n",
    "for episode in range(1500):\n",
    "    if episode % 100 == 0:\n",
    "        print(\"E\",episode)\n",
    "    state[0] = trj_data[0,0]\n",
    "    state[1] = trj_data[0,1]\n",
    "    done = False\n",
    "    total_reward = 0\n",
    "\n",
    "    for t in range(1,500):\n",
    "\n",
    "        n_state[0] = trj_data[t,0]\n",
    "        n_state[1] = trj_data[t,1]\n",
    "        if int(n_state[0])==-3 and n_state[1] > 0:# > 0 and n_state[1] > 0:\n",
    "            reward = 3\n",
    "            #print(\"R\")\n",
    "        else:\n",
    "            reward = 0\n",
    "            #print(\"N\")\n",
    "        if t == 500:\n",
    "            done == True\n",
    "        n_state = np.copy(n_state)\n",
    "        total_reward += reward\n",
    "        #print(state)\n",
    "        experiences.append({\n",
    "            \"state\": state,\n",
    "            \"reward\": reward,\n",
    "            \"n_state\": n_state,\n",
    "            \"done\": done,\n",
    "        })\n",
    "\n",
    "        state = n_state\n",
    "\n",
    "        if len(experiences) == batch_size:\n",
    "            #print(experiences)\n",
    "            train(model, experiences, episode)\n",
    "            experiences = []"
   ]
  },
  {
   "cell_type": "code",
   "execution_count": 3,
   "metadata": {},
   "outputs": [
    {
     "data": {
      "text/plain": [
       "[<matplotlib.lines.Line2D at 0x18bcea86100>]"
      ]
     },
     "execution_count": 3,
     "metadata": {},
     "output_type": "execute_result"
    },
    {
     "data": {
      "image/png": "[encoded data removed]",
      "text/plain": [
       "<Figure size 432x288 with 1 Axes>"
      ]
     },
     "metadata": {
      "needs_background": "light"
     },
     "output_type": "display_data"
    }
   ],
   "source": [
    "plt.plot(loss_his)"
   ]
  },
  {
   "cell_type": "code",
   "execution_count": 5,
   "metadata": {},
   "outputs": [
    {
     "data": {
      "image/png": "[encoded data removed]",
      "text/plain": [
       "<Figure size 432x288 with 2 Axes>"
      ]
     },
     "metadata": {
      "needs_background": "light"
     },
     "output_type": "display_data"
    }
   ],
   "source": [
    "X, Y = np.mgrid[0:14.1:0.1, 0:14.1:0.1]\n",
    "X-=7.0\n",
    "Y-=7.0\n",
    "z=np.zeros([140,140])\n",
    "s = np.zeros(num_inputs)\n",
    "for i in range(140):\n",
    "    for j in range(140):\n",
    "        s[0] = -7+ i/10\n",
    "        s[1] = j/10-7\n",
    "        z[i,j] = model(np.atleast_2d(s), training=False)[0]\n",
    "\n",
    "fig, ax = plt.subplots()\n",
    "im = ax.pcolormesh(X, Y, z, cmap='inferno',vmin=0,vmax=5)\n",
    "ax.set_xlabel(\"X\")\n",
    "ax.set_ylabel(\"Y\")\n",
    "cbar = fig.colorbar(im)\n",
    "cbar.set_label(\"Z\")\n",
    "plt.plot(trj_data[:,0],trj_data[:,1])\n",
    "plt.show()"
   ]
  },
  {
   "cell_type": "code",
   "execution_count": null,
   "metadata": {},
   "outputs": [],
   "source": []
  }
 ],
 "metadata": {
  "kernelspec": {
   "display_name": "Environment (conda_anaconda3)",
   "language": "python",
   "name": "conda_anaconda3"
  },
  "language_info": {
   "codemirror_mode": {
    "name": "ipython",
    "version": 3
   },
   "file_extension": ".py",
   "mimetype": "text/x-python",
   "name": "python",
   "nbconvert_exporter": "python",
   "pygments_lexer": "ipython3",
   "version": "3.8.5"
  }
 },
 "nbformat": 4,
 "nbformat_minor": 4
}
